{
 "cells": [
  {
   "cell_type": "code",
   "execution_count": 29,
   "metadata": {},
   "outputs": [],
   "source": [
    "import pandas as pd\n",
    "import pytesseract\n",
    "import cv2\n",
    "from PIL import Image\n",
    "import re"
   ]
  },
  {
   "cell_type": "code",
   "execution_count": null,
   "metadata": {},
   "outputs": [],
   "source": [
    "Image processing"
   ]
  },
  {
   "cell_type": "code",
   "execution_count": 25,
   "metadata": {},
   "outputs": [
    {
     "name": "stdout",
     "output_type": "stream",
     "text": [
      "Dear Paylites,\n",
      "As we are in the world called ‘DIGITAL’\n",
      "Rearrange the Jumbled Words & let’s see whether you have adopted this world or not.\n",
      "\n",
      "The one who shares the correct words will be the winner.\n",
      "\n",
      "APKAATOLL\n",
      "IRAAKBEBNDG\n",
      "FEEIHTFCO\n",
      "TANHIMAMFYEL\n",
      "RZOKA\n",
      "OSEIHTMENY\n",
      "NRTIASTHREGGSN\n",
      "YGBHTAENGIOEBHTR\n",
      "AAYTAPNHC\n",
      "EFDRU\n",
      "EYMANRSGOATY\n",
      "SURROLFOAMOESSPEETH\n",
      "EDFOSCUORSHA\n",
      "IGIESEEDDN\n",
      "RCOASN\n",
      "HEEAFGNMOTOSR\n",
      "OGUESLYNHNOD.\n",
      "IATHHSENRMI\n",
      "AIZUMRRP\n",
      "DSFIERN\n",
      "\n",
      "ll not consider multiple mails, you have to share the answer in one m:\n"
     ]
    }
   ],
   "source": [
    "img = cv2.imread('img.png')\n",
    "pytesseract.pytesseract.tesseract_cmd = 'C:\\\\Program Files\\\\Tesseract-OCR\\\\tesseract.exe'\n",
    "result = pytesseract.image_to_string(Image.fromarray(img))\n",
    "print(result)"
   ]
  },
  {
   "cell_type": "code",
   "execution_count": 90,
   "metadata": {},
   "outputs": [],
   "source": [
    "cv2.imshow('mat',img)"
   ]
  },
  {
   "cell_type": "code",
   "execution_count": 26,
   "metadata": {},
   "outputs": [],
   "source": [
    "namestr = ['APKAATOLL',\n",
    "'IRAAKBEBNDG',\n",
    "'FEEIHTFCO',\n",
    "'TANHIMAMFYEL',\n",
    "'RZOKA',\n",
    "'OSEIHTMENY',\n",
    "'NRTIASTHREGGSN',\n",
    "'YGBHTAENGIOEBHTR',\n",
    "'AAYTAPNHC',\n",
    "'EFDRU',\n",
    "'EYMANRSGOATY',\n",
    "'SURROLFOAMOESSPEETH',\n",
    "'EDFOSCUORSHA',\n",
    "'IGIESEEDDN',\n",
    "'RCOASN',\n",
    "'HEEAFGNMOTOSR',\n",
    "'OGUESLYNHNOD',\n",
    "'IATHHSENRMI',\n",
    "'AIZUMRRP',\n",
    "'DSFIERN',]"
   ]
  },
  {
   "cell_type": "code",
   "execution_count": 28,
   "metadata": {},
   "outputs": [
    {
     "data": {
      "text/plain": [
       "['APKAATOLL',\n",
       " 'IRAAKBEBNDG',\n",
       " 'FEEIHTFCO',\n",
       " 'TANHIMAMFYEL',\n",
       " 'RZOKA',\n",
       " 'OSEIHTMENY',\n",
       " 'NRTIASTHREGGSN',\n",
       " 'YGBHTAENGIOEBHTR',\n",
       " 'AAYTAPNHC',\n",
       " 'EFDRU',\n",
       " 'EYMANRSGOATY',\n",
       " 'SURROLFOAMOESSPEETH',\n",
       " 'EDFOSCUORSHA',\n",
       " 'IGIESEEDDN',\n",
       " 'RCOASN',\n",
       " 'HEEAFGNMOTOSR',\n",
       " 'OGUESLYNHNOD',\n",
       " 'IATHHSENRMI',\n",
       " 'AIZUMRRP',\n",
       " 'DSFIERN']"
      ]
     },
     "execution_count": 28,
     "metadata": {},
     "output_type": "execute_result"
    }
   ],
   "source": [
    "namestr"
   ]
  },
  {
   "cell_type": "code",
   "execution_count": 8,
   "metadata": {},
   "outputs": [
    {
     "name": "stderr",
     "output_type": "stream",
     "text": [
      "C:\\Users\\Yash Gupta\\anaconda3\\lib\\site-packages\\IPython\\core\\interactiveshell.py:3072: DtypeWarning: Columns (7) have mixed types.Specify dtype option on import or set low_memory=False.\n",
      "  interactivity=interactivity, compiler=compiler, result=result)\n"
     ]
    }
   ],
   "source": [
    "#Download data from imdb datasets\n",
    "data = pd.read_csv(\"./abc/data.tsv\", sep='\\t')"
   ]
  },
  {
   "cell_type": "code",
   "execution_count": 40,
   "metadata": {},
   "outputs": [],
   "source": [
    "data_title = list(data.loc[:, 'title'])"
   ]
  },
  {
   "cell_type": "code",
   "execution_count": 88,
   "metadata": {},
   "outputs": [],
   "source": [
    "from collections import Counter\n",
    "def compare(str1,str2):\n",
    "    if Counter(str1) == Counter(str2):\n",
    "        return str1\n",
    "    return 'NONE'       "
   ]
  },
  {
   "cell_type": "code",
   "execution_count": 72,
   "metadata": {},
   "outputs": [
    {
     "data": {
      "text/plain": [
       "'YASH'"
      ]
     },
     "execution_count": 72,
     "metadata": {},
     "output_type": "execute_result"
    }
   ],
   "source": [
    "compare('YASH','YASH')"
   ]
  },
  {
   "cell_type": "code",
   "execution_count": 86,
   "metadata": {},
   "outputs": [],
   "source": [
    "title_lst = []\n",
    "\n",
    "for i in data_title:\n",
    "    reg = re.compile('[^a-zA-Z]')\n",
    "    try:\n",
    "        string = re.sub(reg,'', i.upper())\n",
    "        if string == '':\n",
    "            continue\n",
    "        title_lst.append(string) \n",
    "    except:\n",
    "        continue"
   ]
  },
  {
   "cell_type": "code",
   "execution_count": 83,
   "metadata": {},
   "outputs": [
    {
     "data": {
      "text/plain": [
       "15130404"
      ]
     },
     "execution_count": 83,
     "metadata": {},
     "output_type": "execute_result"
    }
   ],
   "source": [
    "len(title_lst)"
   ]
  },
  {
   "cell_type": "code",
   "execution_count": 89,
   "metadata": {},
   "outputs": [
    {
     "name": "stdout",
     "output_type": "stream",
     "text": [
      "FRIENDS\n",
      "HOUSEOFCARDS\n",
      "THEFAMILYMAN\n",
      "CARSON\n",
      "FREUD\n",
      "THEIRISHMAN\n",
      "GREYSANATOMY\n",
      "INSIDEEDGE\n",
      "THEBIGBANGTHEORY\n",
      "THEOFFICE\n",
      "AZROK\n",
      "PANCHAYAT\n",
      "BREAKINGBAD\n",
      "GAMEOFTHRONES\n",
      "STRANGERTHINGS\n",
      "YOUNGSHELDON\n",
      "MONEYHEIST\n",
      "MIRZAPUR\n",
      "FOURMORESHOTSPLEASE\n",
      "PAATALLOK\n"
     ]
    }
   ],
   "source": [
    "for i in title_lst:\n",
    "    for j in namestr:\n",
    "        answer = compare(i,j)\n",
    "        if not answer == 'NONE':\n",
    "            namestr.remove(j)\n",
    "            print(compare(i,j))"
   ]
  },
  {
   "cell_type": "code",
   "execution_count": null,
   "metadata": {},
   "outputs": [],
   "source": []
  }
 ],
 "metadata": {
  "kernelspec": {
   "display_name": "Python 3",
   "language": "python",
   "name": "python3"
  },
  "language_info": {
   "codemirror_mode": {
    "name": "ipython",
    "version": 3
   },
   "file_extension": ".py",
   "mimetype": "text/x-python",
   "name": "python",
   "nbconvert_exporter": "python",
   "pygments_lexer": "ipython3",
   "version": "3.7.6"
  }
 },
 "nbformat": 4,
 "nbformat_minor": 4
}
